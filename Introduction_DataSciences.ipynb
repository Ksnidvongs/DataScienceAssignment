{
  "metadata": {
    "kernelspec": {
      "name": "python",
      "display_name": "Python (Pyodide)",
      "language": "python"
    },
    "language_info": {
      "codemirror_mode": {
        "name": "python",
        "version": 3
      },
      "file_extension": ".py",
      "mimetype": "text/x-python",
      "name": "python",
      "nbconvert_exporter": "python",
      "pygments_lexer": "ipython3",
      "version": "3.8"
    }
  },
  "nbformat_minor": 5,
  "nbformat": 4,
  "cells": [
    {
      "id": "a09d0344-a995-4fc6-9eb4-cd7c9e8d717b",
      "cell_type": "markdown",
      "source": "# Introduction to Data Science Tools",
      "metadata": {}
    },
    {
      "id": "0e437bc6-93d1-4c7f-a621-fcbb7955ccea",
      "cell_type": "markdown",
      "source": "In this notebook, we will introduce the common data science langauges, libraries and tools which includes basic examples",
      "metadata": {}
    },
    {
      "id": "9b725fc8-8110-4962-8b4a-a6547a91097d",
      "cell_type": "markdown",
      "source": "# Exercise 4 - Create a markdown cell to list data science languages. (3 pts)\n",
      "metadata": {}
    },
    {
      "id": "3e5e2b63-cbc4-4617-b3bf-f38bd734a408",
      "cell_type": "markdown",
      "source": "Data Science Langauges:\n- Python\n- R\n- SQL\n- Julia",
      "metadata": {}
    },
    {
      "id": "762b0f9e-cf21-4236-bb46-e94f65fddc74",
      "cell_type": "markdown",
      "source": "# Exercise 5 - Create a markdown cell to list data science libraries. (3 pts)\n",
      "metadata": {}
    },
    {
      "id": "5f0ebbf6-98e9-499c-83ad-551e17d49c82",
      "cell_type": "markdown",
      "source": "Data Science Libraries:\n- NumPy\n- Pandas\n- Matplotlib\n- Scikit-learn",
      "metadata": {}
    },
    {
      "id": "cc07bd2c-7edf-45a6-a1c7-bebded8751c3",
      "cell_type": "markdown",
      "source": "# Exercise 6: Create a markdown cell with a table of Data Science tools\n",
      "metadata": {}
    },
    {
      "id": "be3bb3a5-c0fc-455c-9bcc-a5027246650a",
      "cell_type": "markdown",
      "source": "| Tool         | Description                                   |\n|--------------|----------------------------------------------|\n| Jupyter      | Interactive notebooks for data analysis     |\n| RStudio      | IDE for R programming                        |\n| Tableau      | Data visualization tool                     |\n| Power BI     | Business analytics tool                     |",
      "metadata": {}
    },
    {
      "id": "d3a5a029-6efe-478b-b582-be32ba47b8ea",
      "cell_type": "markdown",
      "source": "# Exercise 7: Create a markdown cell introducing arithmetic expression examples\n",
      "metadata": {}
    },
    {
      "id": "79bdf112-54fe-4f11-8c55-1b61b8e02bba",
      "cell_type": "markdown",
      "source": "Below are some basic arithmetic operations demonstrated in Python.",
      "metadata": {}
    },
    {
      "id": "8dda4b01-3140-438f-ac6d-5af81a720e00",
      "cell_type": "markdown",
      "source": "# Exercise 8: Create a code cell to multiply and add numbers\n",
      "metadata": {}
    },
    {
      "id": "b676a303-85cc-403a-b408-4d44e1269cec",
      "cell_type": "code",
      "source": "# multiplication \nresult  = 6*7\n# addition \nsum_result = 10 + 10\nprint(\"the result of the multiplication is:\", result)\nprint(\"the result of the addition result is:\", sum_result)",
      "metadata": {
        "trusted": true
      },
      "outputs": [
        {
          "name": "stdout",
          "output_type": "stream",
          "text": "the result of the multiplication is: 42\nthe result of the addition result is: 20\n"
        }
      ],
      "execution_count": 9
    },
    {
      "id": "df673039-7727-4e0a-aeac-aed2a2840a54",
      "cell_type": "markdown",
      "source": "# Exercise 9 - Create a code cell to convert minutes to hours. (2 pts)\n",
      "metadata": {}
    },
    {
      "id": "5b6714ab-cde1-47e8-82a1-4f6ec66d45ed",
      "cell_type": "code",
      "source": "minutes = 120\nhours = minutes/60\nprint(\"Hours:\", hours)",
      "metadata": {
        "trusted": true
      },
      "outputs": [
        {
          "name": "stdout",
          "output_type": "stream",
          "text": "Hours: 2.0\n"
        }
      ],
      "execution_count": 10
    },
    {
      "id": "ad234d89-fa74-42a5-8d61-0a6d471bff3c",
      "cell_type": "markdown",
      "source": "# Exercise 10 -Insert a markdown cell to list Objectives. (3 pts)\n",
      "metadata": {}
    },
    {
      "id": "572b1719-eb79-4ee0-ac8c-209be3f4cd7e",
      "cell_type": "markdown",
      "source": "Objectives:\n- Learn about Data science langauges and libraries\n- Practice basic operation in Python \n- Learn more on how to use the Jupyter Notebook ",
      "metadata": {}
    },
    {
      "id": "50e36eb7-34e8-4183-b979-d3b56353caae",
      "cell_type": "markdown",
      "source": "# Exercise 11 - Create a markdown cell to indicate the Author’s name. (2 pts)\n\n",
      "metadata": {}
    },
    {
      "id": "4d96945c-9015-4fa0-9039-c76870024cbe",
      "cell_type": "markdown",
      "source": "**Author: Kaewsai S.**",
      "metadata": {}
    },
    {
      "id": "57cca8bd-c515-4705-b500-06c02c6c1283",
      "cell_type": "code",
      "source": "",
      "metadata": {
        "trusted": true
      },
      "outputs": [],
      "execution_count": null
    }
  ]
}