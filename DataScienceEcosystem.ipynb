{
  "metadata": {
    "kernelspec": {
      "name": "python",
      "display_name": "Python (Pyodide)",
      "language": "python"
    },
    "language_info": {
      "codemirror_mode": {
        "name": "python",
        "version": 3
      },
      "file_extension": ".py",
      "mimetype": "text/x-python",
      "name": "python",
      "nbconvert_exporter": "python",
      "pygments_lexer": "ipython3",
      "version": "3.8"
    }
  },
  "nbformat_minor": 5,
  "nbformat": 4,
  "cells": [
    {
      "id": "ffe8baa2-1296-4d03-b032-a3ab8a1d5ccc",
      "cell_type": "markdown",
      "source": "# Data Science Tools and Ecosystem\n",
      "metadata": {}
    },
    {
      "id": "10be0dc4-24c5-4d0c-9ef0-e88d70bf42f3",
      "cell_type": "markdown",
      "source": "In this notebook, Data Science Tools and Ecosystem are summarized",
      "metadata": {}
    },
    {
      "id": "a7043d21-58b6-403f-9f28-8acf075ff131",
      "cell_type": "markdown",
      "source": "Some of the popular languages that Data Scientists use are:\n",
      "metadata": {}
    },
    {
      "id": "620b4bda-bc3b-4409-8292-ec04389bfdfd",
      "cell_type": "markdown",
      "source": "1. Python\n2. R\n3. Julia",
      "metadata": {}
    },
    {
      "id": "1cbdd1fc-0a0c-439b-9b78-3ca758c4783d",
      "cell_type": "markdown",
      "source": "Some of the commonly used libraries used by Data Scientists include:\n",
      "metadata": {}
    },
    {
      "id": "07333990-5b2d-4446-b46c-f813270d802d",
      "cell_type": "markdown",
      "source": "1. pandas\n2. NumPy\n3. scikit-learn",
      "metadata": {}
    },
    {
      "id": "24583b5d-7cd6-43d1-918c-8200708d6f24",
      "cell_type": "markdown",
      "source": "| Data Science Tools       |\n|--------------------------|\n| Jupyter Notebook         |\n| RStudio                  |\n| Anaconda                 |",
      "metadata": {}
    },
    {
      "id": "bdd810aa-5edb-43e8-82a5-04bfedf6537b",
      "cell_type": "markdown",
      "source": "### Below are a few examples of evaluating arithmetic expressions in Python.\n",
      "metadata": {}
    },
    {
      "id": "8cee0acd-1753-47f9-b7c1-ab1b8feabcea",
      "cell_type": "code",
      "source": "# This a simple arithmetic expression to mutiply then add integers\n'(3*4)+5'\nresult = (3*4)+5\nprint(result)",
      "metadata": {
        "trusted": true
      },
      "outputs": [
        {
          "name": "stdout",
          "output_type": "stream",
          "text": "17\n"
        }
      ],
      "execution_count": 11
    },
    {
      "id": "72e2355b-5159-4bda-a876-5bebeb9ba2a2",
      "cell_type": "code",
      "source": "# Convert 200 minutes into hours by dividing by 60\nhours = 200/60\nprint(hours)",
      "metadata": {
        "trusted": true
      },
      "outputs": [
        {
          "name": "stdout",
          "output_type": "stream",
          "text": "3.3333333333333335\n"
        }
      ],
      "execution_count": 12
    },
    {
      "id": "934b852f-5c47-4fdb-ac84-9b3ed26a7202",
      "cell_type": "markdown",
      "source": "**Objectives:**\n- List popular languages for Data Science\n- List common Data Science libraries\n- Identify Data Science tools\n- Write simple Python expressions",
      "metadata": {}
    },
    {
      "id": "8945c5b2-91bf-4197-aadb-1b7a158c62cd",
      "cell_type": "markdown",
      "source": "## Author\nKaewsai Snidvongs",
      "metadata": {}
    },
    {
      "id": "e553d73f-f2b6-4c3a-bd74-ae57a57c122f",
      "cell_type": "code",
      "source": "",
      "metadata": {
        "trusted": true
      },
      "outputs": [],
      "execution_count": null
    }
  ]
}